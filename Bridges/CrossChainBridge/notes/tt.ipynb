{
 "cells": [
  {
   "cell_type": "code",
   "execution_count": 1,
   "metadata": {},
   "outputs": [],
   "source": [
    "from utils.MultiChain import MultiChain"
   ]
  },
  {
   "cell_type": "code",
   "execution_count": 2,
   "metadata": {},
   "outputs": [],
   "source": [
    "import json\n",
    "abi = []\n",
    "with open(\"/home/nfel/Projects/Startup/BridgeAgg/Bridges/CrossChainBridge/notes/CrossChainRouter.json\") as f:\n",
    "    abi = json.load(f).get('abi')"
   ]
  },
  {
   "cell_type": "code",
   "execution_count": 11,
   "metadata": {},
   "outputs": [
    {
     "ename": "IndentationError",
     "evalue": "expected an indented block after 'try' statement on line 18 (3334799991.py, line 22)",
     "output_type": "error",
     "traceback": [
      "\u001b[0;36m  Input \u001b[0;32mIn [11]\u001b[0;36m\u001b[0m\n\u001b[0;31m    except Exception as e:\u001b[0m\n\u001b[0m    ^\u001b[0m\n\u001b[0;31mIndentationError\u001b[0m\u001b[0;31m:\u001b[0m expected an indented block after 'try' statement on line 18\n"
     ]
    }
   ],
   "source": [
    "res = {}\n",
    "SUPPORTED_CHAINS = {\n",
    "    MultiChain.ETH :\"0xCBCe172d7af2616804ab5b2494102dAeC47B2635\",\n",
    "    MultiChain.BSC : \"0xCBCe172d7af2616804ab5b2494102dAeC47B2635\",\n",
    "    MultiChain.POLYGON :\"0xCBCe172d7af2616804ab5b2494102dAeC47B2635\",\n",
    "    MultiChain.FTM :\"0xCBCe172d7af2616804ab5b2494102dAeC47B2635\",\n",
    "    MultiChain.AVAX:\"0x46325c7005F04900F8D74cD0eAB903597b6EFFFF\"\n",
    "}\n",
    "SUPPORTED_USDT = {\n",
    "    MultiChain.ETH :\"0xdAC17F958D2ee523a2206206994597C13D831ec7\",\n",
    "    MultiChain.BSC :\"0x55d398326f99059fF775485246999027B3197955\",\n",
    "    MultiChain.POLYGON :\"0xc2132D05D31c914a87C6611C10748AEb04B58e8F\",\n",
    "    MultiChain.FTM :\"0x049d68029688eAbF473097a2fC38ef61633A3C7A\",\n",
    "    MultiChain.AVAX:\"0xc7198437980c041c805A1EDcbA50c1Ce5db95118\"\n",
    "}\n",
    "\n",
    "for chain, cross_chain_address in SUPPORTED_CHAINS.items():\n",
    "    try:\n",
    "        # res[chain] = chain.w3.eth.contract(cross_chain_address, abi=abi).functions.paused().call() # WORKS\n",
    "        # res[chain] = chain.w3.eth.contract(cross_chain_address, abi=abi).functions.wrappedNative().call() # WORKS\n",
    "        \n",
    "        res[chain] = chain.w3.eth.contract(cross_chain_address, abi=abi).functions.getERC20BridgeFeeQuote(SUPPORTED_USDT[chain],10_000_000).call()\n",
    "    except Exception as e:\n",
    "        print(chain,e)\n",
    "res"
   ]
  },
  {
   "cell_type": "code",
   "execution_count": null,
   "metadata": {},
   "outputs": [],
   "source": []
  },
  {
   "cell_type": "code",
   "execution_count": null,
   "metadata": {},
   "outputs": [],
   "source": []
  }
 ],
 "metadata": {
  "kernelspec": {
   "display_name": "Python 3.10.5 ('BridgeAgg-hXsijTUT')",
   "language": "python",
   "name": "python3"
  },
  "language_info": {
   "codemirror_mode": {
    "name": "ipython",
    "version": 3
   },
   "file_extension": ".py",
   "mimetype": "text/x-python",
   "name": "python",
   "nbconvert_exporter": "python",
   "pygments_lexer": "ipython3",
   "version": "3.10.5"
  },
  "orig_nbformat": 4,
  "vscode": {
   "interpreter": {
    "hash": "8ee1ffbfcfd1346d6aa268e5db9c58302cdcd8e39c926a25141ad9cd860e1d1c"
   }
  }
 },
 "nbformat": 4,
 "nbformat_minor": 2
}
